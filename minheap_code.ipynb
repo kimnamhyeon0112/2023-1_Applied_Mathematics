{
 "cells": [
  {
   "cell_type": "code",
   "execution_count": null,
   "metadata": {},
   "outputs": [],
   "source": [
    "buildHeap(A[], n) {             # A[1~n]을 힙으로 만듦, n/2번 heapify()수행\n",
    "    for i <- ⌊n/2⌋ downto 1;     # 1 = 루트노드\n",
    "        heapify(A, i, n);       # 최악의 경우 트리의 높이인 log2^n-1까지 실행\n",
    "}"
   ]
  }
 ],
 "metadata": {
  "language_info": {
   "name": "python"
  },
  "orig_nbformat": 4
 },
 "nbformat": 4,
 "nbformat_minor": 2
}
